{
  "nbformat": 4,
  "nbformat_minor": 0,
  "metadata": {
    "colab": {
      "name": "Tarea2_Constrain_Programming.ipynb",
      "provenance": [],
      "collapsed_sections": [],
      "toc_visible": true,
      "include_colab_link": true
    },
    "kernelspec": {
      "name": "python3",
      "display_name": "Python 3"
    }
  },
  "cells": [
    {
      "cell_type": "markdown",
      "metadata": {
        "id": "view-in-github",
        "colab_type": "text"
      },
      "source": [
        "<a href=\"https://colab.research.google.com/github/jmg1977/proyectos/blob/master/Tarea2_Constrain_Programming.ipynb\" target=\"_parent\"><img src=\"https://colab.research.google.com/assets/colab-badge.svg\" alt=\"Open In Colab\"/></a>"
      ]
    },
    {
      "cell_type": "markdown",
      "metadata": {
        "id": "Dt1fcQ6j_ThY",
        "colab_type": "text"
      },
      "source": [
        "![Universidad Adolfo Ibañez](https://www.uai.cl/assets/themes/uai-central/img/logo.svg)\n",
        "\n",
        "---\n",
        "\n",
        "# UAI : Magister / Diploma AI 2020\n",
        "\n",
        "---\n",
        "\n",
        "## Mini-proyecto 2 - Programación Basada en Restricciones\n",
        "\n",
        "### Descripción Problema a resolver\n",
        "\n",
        "La evaluación consiste en realizar un modelo\n",
        "que resuelva el problema de asignar trabajadores\n",
        "a vuelos en una compañía aérea. Para lo que tenemos los siguientes datos:\n",
        "\n",
        "1. Hay 20 trabajadores\n",
        "+ Azafatos: Tom, David, Jeremy, Ron, Joe, Bill, Fred, Bob,\n",
        "Mario, Ed\n",
        "+ Azafatas: Carol, Janet, Tracy, Marilyn, Carolyn, Cathy,\n",
        "Inez, Jean, Heather, Juliet\n",
        "2. Hay 10 vuelos (la numeración es importante)\n",
        "3. Cada vuelo necesita el siguiente número de\n",
        "trabajadores, azafatos y azafatas.\n",
        "\n",
        "![](https://drive.google.com/uc?export=view&id=1cHJBX0X42Auo0EwdRfY_xUByM_V71m9K)\n",
        "\n",
        "4. Además, cada vuelo necesita al menos una persona\n",
        "que sepa francés, una persona que sepa español y\n",
        "una persona que sepa alemán.\n",
        "* Saben francés: Inez, Bill, Jean, Juliet\n",
        "* Saben español: Tom, Jeremy, Mario, Cathy, Juliet\n",
        "* Saben alemán: Bill, Fred, Joe, Mario, Marilyn, Inez, Heather\n",
        "\n",
        "5. Si un trabajador trabaja un vuelo, no puede\n",
        "trabajar ninguno de los siguientes dos vuelos\n",
        "(ejemplo, si Mario trabaja en el vuelo 1, no\n",
        "puede trabajar en el vuelo 2 ni en el vuelo 3).\n",
        "\n",
        "---\n",
        "\n",
        "### Descripción **Objetivo**\n",
        "\n",
        "* El objetivo es encontrar una asignación de\n",
        "trabajadores a vuelos.\n",
        "\n",
        "* Pregunta extra: ¿Se podría hacer con menos\n",
        "trabajadores?"
      ]
    },
    {
      "cell_type": "markdown",
      "metadata": {
        "id": "l7rT1WRxGmvu",
        "colab_type": "text"
      },
      "source": [
        "# Solución\n",
        "\n",
        "XXXXXX Descripción de como se piensa resolver el problema XXXXXxxxx"
      ]
    },
    {
      "cell_type": "markdown",
      "metadata": {
        "id": "BkwlZxwMBgBC",
        "colab_type": "text"
      },
      "source": [
        "## Importación de paquetes y creación de variables"
      ]
    },
    {
      "cell_type": "code",
      "metadata": {
        "id": "pBpVAEuHo0TI",
        "colab_type": "code",
        "colab": {
          "base_uri": "https://localhost:8080/",
          "height": 323
        },
        "outputId": "f82ed9f2-e735-4412-95c3-9849b26dca67"
      },
      "source": [
        "pip install ortools"
      ],
      "execution_count": 2,
      "outputs": [
        {
          "output_type": "stream",
          "text": [
            "Collecting ortools\n",
            "\u001b[?25l  Downloading https://files.pythonhosted.org/packages/16/eb/61e676d87bd1089f487f3a03f436197433122a97cb501dea46041fc10480/ortools-7.7.7810-cp36-cp36m-manylinux1_x86_64.whl (29.4MB)\n",
            "\u001b[K     |████████████████████████████████| 29.5MB 137kB/s \n",
            "\u001b[?25hRequirement already satisfied: six>=1.10 in /usr/local/lib/python3.6/dist-packages (from ortools) (1.12.0)\n",
            "Collecting protobuf>=3.12.2\n",
            "\u001b[?25l  Downloading https://files.pythonhosted.org/packages/28/05/9867ef8eafd12265267bee138fa2c46ebf34a276ea4cbe184cba4c606e8b/protobuf-3.12.2-cp36-cp36m-manylinux1_x86_64.whl (1.3MB)\n",
            "\u001b[K     |████████████████████████████████| 1.3MB 41.1MB/s \n",
            "\u001b[?25hRequirement already satisfied: setuptools in /usr/local/lib/python3.6/dist-packages (from protobuf>=3.12.2->ortools) (49.1.0)\n",
            "Installing collected packages: protobuf, ortools\n",
            "  Found existing installation: protobuf 3.10.0\n",
            "    Uninstalling protobuf-3.10.0:\n",
            "      Successfully uninstalled protobuf-3.10.0\n",
            "Successfully installed ortools-7.7.7810 protobuf-3.12.2\n"
          ],
          "name": "stdout"
        },
        {
          "output_type": "display_data",
          "data": {
            "application/vnd.colab-display-data+json": {
              "pip_warning": {
                "packages": [
                  "google"
                ]
              }
            }
          },
          "metadata": {
            "tags": []
          }
        }
      ]
    },
    {
      "cell_type": "code",
      "metadata": {
        "id": "vf40DtS7rbsJ",
        "colab_type": "code",
        "colab": {}
      },
      "source": [
        "from ortools.constraint_solver import pywrapcp"
      ],
      "execution_count": 3,
      "outputs": []
    },
    {
      "cell_type": "code",
      "metadata": {
        "id": "RKw7L3AzQdBm",
        "colab_type": "code",
        "colab": {}
      },
      "source": [
        "import pandas as pd\n",
        "import numpy as np\n",
        "import matplotlib.pyplot as plt\n"
      ],
      "execution_count": 4,
      "outputs": []
    },
    {
      "cell_type": "code",
      "metadata": {
        "id": "g3VlOQNKS17K",
        "colab_type": "code",
        "colab": {}
      },
      "source": [
        "#help(pywrapcp)"
      ],
      "execution_count": 5,
      "outputs": []
    },
    {
      "cell_type": "code",
      "metadata": {
        "id": "dCNO7_EG8rUH",
        "colab_type": "code",
        "colab": {}
      },
      "source": [
        "solver = pywrapcp.Solver(\"Tripulacion\")"
      ],
      "execution_count": 6,
      "outputs": []
    },
    {
      "cell_type": "code",
      "metadata": {
        "id": "d0de1gxIkZ-_",
        "colab_type": "code",
        "colab": {}
      },
      "source": [
        " nombres = [\n",
        "      \"Tom\", \"David\", \"Jeremy\", \"Ron\", \"Joe\", \"Bill\", \"Fred\", \"Bob\", \"Mario\",\n",
        "      \"Ed\", \"Carol\", \"Janet\", \"Tracy\", \"Marilyn\", \"Carolyn\", \"Cathy\", \"Inez\",\n",
        "      \"Jean\", \"Heather\", \"Juliet\"\n",
        "  ]"
      ],
      "execution_count": 7,
      "outputs": []
    },
    {
      "cell_type": "code",
      "metadata": {
        "id": "6fBNIiJqkdxO",
        "colab_type": "code",
        "colab": {
          "base_uri": "https://localhost:8080/",
          "height": 34
        },
        "outputId": "bf03b08d-5cda-485a-e766-bf1b9e93071b"
      },
      "source": [
        "print(nombres)"
      ],
      "execution_count": 8,
      "outputs": [
        {
          "output_type": "stream",
          "text": [
            "['Tom', 'David', 'Jeremy', 'Ron', 'Joe', 'Bill', 'Fred', 'Bob', 'Mario', 'Ed', 'Carol', 'Janet', 'Tracy', 'Marilyn', 'Carolyn', 'Cathy', 'Inez', 'Jean', 'Heather', 'Juliet']\n"
          ],
          "name": "stdout"
        }
      ]
    },
    {
      "cell_type": "code",
      "metadata": {
        "id": "JiH7aVNtkqQX",
        "colab_type": "code",
        "colab": {
          "base_uri": "https://localhost:8080/",
          "height": 34
        },
        "outputId": "aedf5b21-db4c-4a3f-86fc-9445b61045ac"
      },
      "source": [
        "personas = len(nombres)\n",
        "print(personas)"
      ],
      "execution_count": 9,
      "outputs": [
        {
          "output_type": "stream",
          "text": [
            "20\n"
          ],
          "name": "stdout"
        }
      ]
    },
    {
      "cell_type": "markdown",
      "metadata": {
        "id": "vPCBhMeOnLX1",
        "colab_type": "text"
      },
      "source": [
        "Se establece la matriz de atributos que corresponden a toda la tripulación, de modo de poder clasificar y clusterizar los ambitos que tenemos de trabajo de la tripulación."
      ]
    },
    {
      "cell_type": "code",
      "metadata": {
        "id": "aZWArK8mk3Xg",
        "colab_type": "code",
        "colab": {}
      },
      "source": [
        "atributos = [\n",
        "      #  Azafatos, Azafatas, Frances, Español, Aleman\n",
        "      [1, 0, 0, 1, 0],  # Tom     = 1\n",
        "      [1, 0, 0, 0, 0],  # David   = 2\n",
        "      [1, 0, 0, 1, 0],  # Jeremy  = 3\n",
        "      [1, 0, 0, 0, 0],  # Ron     = 4\n",
        "      [1, 0, 0, 0, 1],  # Joe     = 5\n",
        "      [1, 0, 1, 0, 1],  # Bill    = 6\n",
        "      [1, 0, 0, 0, 1],  # Fred    = 7\n",
        "      [1, 0, 0, 0, 0],  # Bob     = 8\n",
        "      [1, 0, 0, 1, 1],  # Mario   = 9\n",
        "      [1, 0, 0, 0, 0],  # Ed      = 10\n",
        "      [0, 1, 0, 0, 0],  # Carol   = 11\n",
        "      [0, 1, 0, 0, 0],  # Janet   = 12\n",
        "      [0, 1, 0, 0, 0],  # Tracy   = 13\n",
        "      [0, 1, 0, 1, 1],  # Marilyn = 14\n",
        "      [0, 1, 0, 0, 0],  # Carolyn = 15\n",
        "      [0, 1, 0, 1, 0],  # Cathy   = 16\n",
        "      [0, 1, 1, 0, 1],  # Inez    = 17\n",
        "      [0, 1, 1, 0, 0],  # Jean    = 18\n",
        "      [0, 1, 0, 0, 1],  # Heather = 19\n",
        "      [0, 1, 1, 1, 0]  # Juliet  = 20\n",
        "  ]"
      ],
      "execution_count": 10,
      "outputs": []
    },
    {
      "cell_type": "code",
      "metadata": {
        "id": "gN4agnkecUgK",
        "colab_type": "code",
        "colab": {
          "base_uri": "https://localhost:8080/",
          "height": 326
        },
        "outputId": "a55114a4-570c-4eea-db85-937585c57e0e"
      },
      "source": [
        "i=0\n",
        "l=1\n",
        "\n",
        "for nombre in nombres:\n",
        "    l=1\n",
        "    for atributo in atributos[i]:\n",
        "        if(atributo==1):\n",
        "            plt.scatter(nombre,l,c='blue',alpha=0.5,edgecolors='none')\n",
        "        l=l+1\n",
        "    i=i+1\n",
        "plt.xticks(rotation=60)\n",
        "plt.title('Descripción Tripulación')\n",
        "plt.yticks([1, 2, 3, 4, 5], [ 'Azafatos', 'Azafatas', 'Frances', 'Español', 'Aleman'],rotation=45)\n",
        "plt.xlabel(\"Tripulación\")\n",
        "\n",
        "plt.ylabel(\"Atributos\")\n",
        "plt.show()"
      ],
      "execution_count": 11,
      "outputs": [
        {
          "output_type": "display_data",
          "data": {
            "image/png": "[encoded data removed]",
            "text/plain": [
              "<Figure size 432x288 with 1 Axes>"
            ]
          },
          "metadata": {
            "tags": [],
            "needs_background": "light"
          }
        }
      ]
    },
    {
      "cell_type": "code",
      "metadata": {
        "id": "M-s-9EtucYXv",
        "colab_type": "code",
        "colab": {}
      },
      "source": [
        ""
      ],
      "execution_count": 11,
      "outputs": []
    },
    {
      "cell_type": "markdown",
      "metadata": {
        "id": "5koRU9lImgy0",
        "colab_type": "text"
      },
      "source": [
        "Se forma la siguiente tabla requerida por las condiciones del problema generado correspondiente a la tripulación requerida por fila (cada fila es un vuelo de la tabla del encabezado):\n",
        "\n",
        "  + Numero Trabajadores     : Numero total de trabajadores requeridos en vuelo\n",
        "  + Azafatos  : Azafatos requeridos\n",
        "  + Azafatas : Azafatas requeridas\n",
        "  + Frances    : Cuantos requeridos que sepan frances\n",
        "  + Español   : Cuantos que sepan español son requeridos\n",
        "  + Aleman    : Cuantos que sepan Aleman son requeridos"
      ]
    },
    {
      "cell_type": "code",
      "metadata": {
        "id": "8jBe83jzmTF1",
        "colab_type": "code",
        "colab": {}
      },
      "source": [
        "\n",
        "tripulacion_requerida = [\n",
        "                         [4, 1, 1, 1, 1, 1],  # Vuelo 1\n",
        "                         [5, 1, 1, 1, 1, 1],  # Vuelo 2\n",
        "                         [5, 1, 1, 1, 1, 1],  # Vuelo 3\n",
        "                         [6, 2, 2, 1, 1, 1],  # Vuelo 4\n",
        "                         [7, 3, 3, 1, 1, 1],  # Vuelo 5\n",
        "                         [4, 1, 1, 1, 1, 1],  # Vuelo 6\n",
        "                         [5, 1, 1, 1, 1, 1],  # Vuelo 7\n",
        "                         [6, 1, 1, 1, 1, 1],  # Vuelo 8\n",
        "                         [6, 2, 2, 1, 1, 1],  # Vuelo 9\n",
        "                         [7, 3, 3, 1, 1, 1]   # Vuelo 10\n",
        "                         ]\n",
        "\n",
        "mumero_vuelos = len(tripulacion_requerida)  # numero de vuelos"
      ],
      "execution_count": 12,
      "outputs": []
    },
    {
      "cell_type": "code",
      "metadata": {
        "id": "QS4GL3SmkaPf",
        "colab_type": "code",
        "colab": {
          "base_uri": "https://localhost:8080/",
          "height": 328
        },
        "outputId": "0ca58b2f-08c2-4ff8-9cbc-7c9ddcc71bf6"
      },
      "source": [
        "i=0\n",
        "lista_vuelos = []                    \n",
        "for vuelo in range(mumero_vuelos):\n",
        "    l=1\n",
        "    lista_vuelos.append(\"Vuelo \"+str(vuelo+1))\n",
        "    for trip in tripulacion_requerida[i]:\n",
        "        plt.scatter(lista_vuelos[vuelo],l,c='lightblue',s=trip*50)\n",
        "        l=l+1\n",
        "    i=i+1\n",
        "plt.xticks(rotation=60)\n",
        "plt.title('Requerimiento de vuelos')\n",
        "plt.yticks([1, 2, 3, 4, 5,6], [ 'Numero Tripulación','Azafatos', 'Azafatas', 'Frances', 'Español', 'Aleman'],rotation=45)\n",
        "plt.xlabel(\"Vuelos\")\n",
        "plt.ylabel(\"Requerimientos\")\n",
        "plt.show()"
      ],
      "execution_count": 13,
      "outputs": [
        {
          "output_type": "display_data",
          "data": {
            "image/png": "[encoded data removed]",
            "text/plain": [
              "<Figure size 432x288 with 1 Axes>"
            ]
          },
          "metadata": {
            "tags": [],
            "needs_background": "light"
          }
        }
      ]
    },
    {
      "cell_type": "markdown",
      "metadata": {
        "id": "AovEEHW-Ahr-",
        "colab_type": "text"
      },
      "source": [
        "Se genera un diccionario de tripulación con llave una tupla que tiene el valor del vuelo en el primer elemento y de la cantidad de tripulacióón en el segundo y el elemnto valor corresponde a un solver que puede ser 0 o 1.\n",
        "\n",
        "Tambien se crea una variable numero de trabajadores que contieen un solver que corresponde a una variable entera que puede ir desde 1 a numero de personas, llamada num_trab"
      ]
    },
    {
      "cell_type": "code",
      "metadata": {
        "id": "Ml4GNBlmourx",
        "colab_type": "code",
        "colab": {}
      },
      "source": [
        "tripulacion = {}\n",
        "for i in range(mumero_vuelos):\n",
        "  for j in range(personas):\n",
        "    tripulacion[(i, j)] = solver.IntVar(0, 1, \"tripulacion[%i,%i]\" % (i, j)) \n",
        "\n",
        "tripulacion_f = [ tripulacion[(i, j)] for i in range(mumero_vuelos) for j in range(personas)]\n",
        "\n",
        "  # numero de personas trabajando\n",
        "num_trab = solver.IntVar(1, personas, \"num_trab\")"
      ],
      "execution_count": 14,
      "outputs": []
    },
    {
      "cell_type": "code",
      "metadata": {
        "id": "PwICuQKQ9_Pz",
        "colab_type": "code",
        "colab": {
          "base_uri": "https://localhost:8080/",
          "height": 34
        },
        "outputId": "9bc82dc8-e916-4179-c99f-de023cafe0d9"
      },
      "source": [
        "type(tripulacion)"
      ],
      "execution_count": 15,
      "outputs": [
        {
          "output_type": "execute_result",
          "data": {
            "text/plain": [
              "dict"
            ]
          },
          "metadata": {
            "tags": []
          },
          "execution_count": 15
        }
      ]
    },
    {
      "cell_type": "code",
      "metadata": {
        "id": "mEuoNYut_lay",
        "colab_type": "code",
        "colab": {
          "base_uri": "https://localhost:8080/",
          "height": 54
        },
        "outputId": "6e5662e7-3e1a-46fb-f531-3fb78a7f85db"
      },
      "source": [
        "tripulacion.keys()"
      ],
      "execution_count": 16,
      "outputs": [
        {
          "output_type": "execute_result",
          "data": {
            "text/plain": [
              "dict_keys([(0, 0), (0, 1), (0, 2), (0, 3), (0, 4), (0, 5), (0, 6), (0, 7), (0, 8), (0, 9), (0, 10), (0, 11), (0, 12), (0, 13), (0, 14), (0, 15), (0, 16), (0, 17), (0, 18), (0, 19), (1, 0), (1, 1), (1, 2), (1, 3), (1, 4), (1, 5), (1, 6), (1, 7), (1, 8), (1, 9), (1, 10), (1, 11), (1, 12), (1, 13), (1, 14), (1, 15), (1, 16), (1, 17), (1, 18), (1, 19), (2, 0), (2, 1), (2, 2), (2, 3), (2, 4), (2, 5), (2, 6), (2, 7), (2, 8), (2, 9), (2, 10), (2, 11), (2, 12), (2, 13), (2, 14), (2, 15), (2, 16), (2, 17), (2, 18), (2, 19), (3, 0), (3, 1), (3, 2), (3, 3), (3, 4), (3, 5), (3, 6), (3, 7), (3, 8), (3, 9), (3, 10), (3, 11), (3, 12), (3, 13), (3, 14), (3, 15), (3, 16), (3, 17), (3, 18), (3, 19), (4, 0), (4, 1), (4, 2), (4, 3), (4, 4), (4, 5), (4, 6), (4, 7), (4, 8), (4, 9), (4, 10), (4, 11), (4, 12), (4, 13), (4, 14), (4, 15), (4, 16), (4, 17), (4, 18), (4, 19), (5, 0), (5, 1), (5, 2), (5, 3), (5, 4), (5, 5), (5, 6), (5, 7), (5, 8), (5, 9), (5, 10), (5, 11), (5, 12), (5, 13), (5, 14), (5, 15), (5, 16), (5, 17), (5, 18), (5, 19), (6, 0), (6, 1), (6, 2), (6, 3), (6, 4), (6, 5), (6, 6), (6, 7), (6, 8), (6, 9), (6, 10), (6, 11), (6, 12), (6, 13), (6, 14), (6, 15), (6, 16), (6, 17), (6, 18), (6, 19), (7, 0), (7, 1), (7, 2), (7, 3), (7, 4), (7, 5), (7, 6), (7, 7), (7, 8), (7, 9), (7, 10), (7, 11), (7, 12), (7, 13), (7, 14), (7, 15), (7, 16), (7, 17), (7, 18), (7, 19), (8, 0), (8, 1), (8, 2), (8, 3), (8, 4), (8, 5), (8, 6), (8, 7), (8, 8), (8, 9), (8, 10), (8, 11), (8, 12), (8, 13), (8, 14), (8, 15), (8, 16), (8, 17), (8, 18), (8, 19), (9, 0), (9, 1), (9, 2), (9, 3), (9, 4), (9, 5), (9, 6), (9, 7), (9, 8), (9, 9), (9, 10), (9, 11), (9, 12), (9, 13), (9, 14), (9, 15), (9, 16), (9, 17), (9, 18), (9, 19)])"
            ]
          },
          "metadata": {
            "tags": []
          },
          "execution_count": 16
        }
      ]
    },
    {
      "cell_type": "code",
      "metadata": {
        "id": "eWuEGX9MA4fI",
        "colab_type": "code",
        "colab": {
          "base_uri": "https://localhost:8080/",
          "height": 34
        },
        "outputId": "4bf492ed-aa7a-49c4-8062-4220a4a95e01"
      },
      "source": [
        "num_trab"
      ],
      "execution_count": 17,
      "outputs": [
        {
          "output_type": "execute_result",
          "data": {
            "text/plain": [
              "num_trab(1..20)"
            ]
          },
          "metadata": {
            "tags": []
          },
          "execution_count": 17
        }
      ]
    },
    {
      "cell_type": "code",
      "metadata": {
        "id": "uHVvyNCse3id",
        "colab_type": "code",
        "colab": {
          "base_uri": "https://localhost:8080/",
          "height": 54
        },
        "outputId": "9bbb3d75-dcef-4a79-e7f2-e2630a4189eb"
      },
      "source": [
        "print(tripulacion_f)"
      ],
      "execution_count": 23,
      "outputs": [
        {
          "output_type": "stream",
          "text": [
            "[tripulacion[0,0](0 .. 1), tripulacion[0,1](0 .. 1), tripulacion[0,2](0 .. 1), tripulacion[0,3](0 .. 1), tripulacion[0,4](0 .. 1), tripulacion[0,5](0 .. 1), tripulacion[0,6](0 .. 1), tripulacion[0,7](0 .. 1), tripulacion[0,8](0 .. 1), tripulacion[0,9](0 .. 1), tripulacion[0,10](0 .. 1), tripulacion[0,11](0 .. 1), tripulacion[0,12](0 .. 1), tripulacion[0,13](0 .. 1), tripulacion[0,14](0 .. 1), tripulacion[0,15](0 .. 1), tripulacion[0,16](0 .. 1), tripulacion[0,17](0 .. 1), tripulacion[0,18](0 .. 1), tripulacion[0,19](0 .. 1), tripulacion[1,0](0 .. 1), tripulacion[1,1](0 .. 1), tripulacion[1,2](0 .. 1), tripulacion[1,3](0 .. 1), tripulacion[1,4](0 .. 1), tripulacion[1,5](0 .. 1), tripulacion[1,6](0 .. 1), tripulacion[1,7](0 .. 1), tripulacion[1,8](0 .. 1), tripulacion[1,9](0 .. 1), tripulacion[1,10](0 .. 1), tripulacion[1,11](0 .. 1), tripulacion[1,12](0 .. 1), tripulacion[1,13](0 .. 1), tripulacion[1,14](0 .. 1), tripulacion[1,15](0 .. 1), tripulacion[1,16](0 .. 1), tripulacion[1,17](0 .. 1), tripulacion[1,18](0 .. 1), tripulacion[1,19](0 .. 1), tripulacion[2,0](0 .. 1), tripulacion[2,1](0 .. 1), tripulacion[2,2](0 .. 1), tripulacion[2,3](0 .. 1), tripulacion[2,4](0 .. 1), tripulacion[2,5](0 .. 1), tripulacion[2,6](0 .. 1), tripulacion[2,7](0 .. 1), tripulacion[2,8](0 .. 1), tripulacion[2,9](0 .. 1), tripulacion[2,10](0 .. 1), tripulacion[2,11](0 .. 1), tripulacion[2,12](0 .. 1), tripulacion[2,13](0 .. 1), tripulacion[2,14](0 .. 1), tripulacion[2,15](0 .. 1), tripulacion[2,16](0 .. 1), tripulacion[2,17](0 .. 1), tripulacion[2,18](0 .. 1), tripulacion[2,19](0 .. 1), tripulacion[3,0](0 .. 1), tripulacion[3,1](0 .. 1), tripulacion[3,2](0 .. 1), tripulacion[3,3](0 .. 1), tripulacion[3,4](0 .. 1), tripulacion[3,5](0 .. 1), tripulacion[3,6](0 .. 1), tripulacion[3,7](0 .. 1), tripulacion[3,8](0 .. 1), tripulacion[3,9](0 .. 1), tripulacion[3,10](0 .. 1), tripulacion[3,11](0 .. 1), tripulacion[3,12](0 .. 1), tripulacion[3,13](0 .. 1), tripulacion[3,14](0 .. 1), tripulacion[3,15](0 .. 1), tripulacion[3,16](0 .. 1), tripulacion[3,17](0 .. 1), tripulacion[3,18](0 .. 1), tripulacion[3,19](0 .. 1), tripulacion[4,0](0 .. 1), tripulacion[4,1](0 .. 1), tripulacion[4,2](0 .. 1), tripulacion[4,3](0 .. 1), tripulacion[4,4](0 .. 1), tripulacion[4,5](0 .. 1), tripulacion[4,6](0 .. 1), tripulacion[4,7](0 .. 1), tripulacion[4,8](0 .. 1), tripulacion[4,9](0 .. 1), tripulacion[4,10](0 .. 1), tripulacion[4,11](0 .. 1), tripulacion[4,12](0 .. 1), tripulacion[4,13](0 .. 1), tripulacion[4,14](0 .. 1), tripulacion[4,15](0 .. 1), tripulacion[4,16](0 .. 1), tripulacion[4,17](0 .. 1), tripulacion[4,18](0 .. 1), tripulacion[4,19](0 .. 1), tripulacion[5,0](0 .. 1), tripulacion[5,1](0 .. 1), tripulacion[5,2](0 .. 1), tripulacion[5,3](0 .. 1), tripulacion[5,4](0 .. 1), tripulacion[5,5](0 .. 1), tripulacion[5,6](0 .. 1), tripulacion[5,7](0 .. 1), tripulacion[5,8](0 .. 1), tripulacion[5,9](0 .. 1), tripulacion[5,10](0 .. 1), tripulacion[5,11](0 .. 1), tripulacion[5,12](0 .. 1), tripulacion[5,13](0 .. 1), tripulacion[5,14](0 .. 1), tripulacion[5,15](0 .. 1), tripulacion[5,16](0 .. 1), tripulacion[5,17](0 .. 1), tripulacion[5,18](0 .. 1), tripulacion[5,19](0 .. 1), tripulacion[6,0](0 .. 1), tripulacion[6,1](0 .. 1), tripulacion[6,2](0 .. 1), tripulacion[6,3](0 .. 1), tripulacion[6,4](0 .. 1), tripulacion[6,5](0 .. 1), tripulacion[6,6](0 .. 1), tripulacion[6,7](0 .. 1), tripulacion[6,8](0 .. 1), tripulacion[6,9](0 .. 1), tripulacion[6,10](0 .. 1), tripulacion[6,11](0 .. 1), tripulacion[6,12](0 .. 1), tripulacion[6,13](0 .. 1), tripulacion[6,14](0 .. 1), tripulacion[6,15](0 .. 1), tripulacion[6,16](0 .. 1), tripulacion[6,17](0 .. 1), tripulacion[6,18](0 .. 1), tripulacion[6,19](0 .. 1), tripulacion[7,0](0 .. 1), tripulacion[7,1](0 .. 1), tripulacion[7,2](0 .. 1), tripulacion[7,3](0 .. 1), tripulacion[7,4](0 .. 1), tripulacion[7,5](0 .. 1), tripulacion[7,6](0 .. 1), tripulacion[7,7](0 .. 1), tripulacion[7,8](0 .. 1), tripulacion[7,9](0 .. 1), tripulacion[7,10](0 .. 1), tripulacion[7,11](0 .. 1), tripulacion[7,12](0 .. 1), tripulacion[7,13](0 .. 1), tripulacion[7,14](0 .. 1), tripulacion[7,15](0 .. 1), tripulacion[7,16](0 .. 1), tripulacion[7,17](0 .. 1), tripulacion[7,18](0 .. 1), tripulacion[7,19](0 .. 1), tripulacion[8,0](0 .. 1), tripulacion[8,1](0 .. 1), tripulacion[8,2](0 .. 1), tripulacion[8,3](0 .. 1), tripulacion[8,4](0 .. 1), tripulacion[8,5](0 .. 1), tripulacion[8,6](0 .. 1), tripulacion[8,7](0 .. 1), tripulacion[8,8](0 .. 1), tripulacion[8,9](0 .. 1), tripulacion[8,10](0 .. 1), tripulacion[8,11](0 .. 1), tripulacion[8,12](0 .. 1), tripulacion[8,13](0 .. 1), tripulacion[8,14](0 .. 1), tripulacion[8,15](0 .. 1), tripulacion[8,16](0 .. 1), tripulacion[8,17](0 .. 1), tripulacion[8,18](0 .. 1), tripulacion[8,19](0 .. 1), tripulacion[9,0](0 .. 1), tripulacion[9,1](0 .. 1), tripulacion[9,2](0 .. 1), tripulacion[9,3](0 .. 1), tripulacion[9,4](0 .. 1), tripulacion[9,5](0 .. 1), tripulacion[9,6](0 .. 1), tripulacion[9,7](0 .. 1), tripulacion[9,8](0 .. 1), tripulacion[9,9](0 .. 1), tripulacion[9,10](0 .. 1), tripulacion[9,11](0 .. 1), tripulacion[9,12](0 .. 1), tripulacion[9,13](0 .. 1), tripulacion[9,14](0 .. 1), tripulacion[9,15](0 .. 1), tripulacion[9,16](0 .. 1), tripulacion[9,17](0 .. 1), tripulacion[9,18](0 .. 1), tripulacion[9,19](0 .. 1)]\n"
          ],
          "name": "stdout"
        }
      ]
    },
    {
      "cell_type": "code",
      "metadata": {
        "id": "atv1UAgYdsKP",
        "colab_type": "code",
        "colab": {
          "base_uri": "https://localhost:8080/",
          "height": 54
        },
        "outputId": "ae6eef63-f455-458b-bfff-0494b1e66178"
      },
      "source": [
        "print(tripulacion)"
      ],
      "execution_count": 22,
      "outputs": [
        {
          "output_type": "stream",
          "text": [
            "{(0, 0): tripulacion[0,0](0 .. 1), (0, 1): tripulacion[0,1](0 .. 1), (0, 2): tripulacion[0,2](0 .. 1), (0, 3): tripulacion[0,3](0 .. 1), (0, 4): tripulacion[0,4](0 .. 1), (0, 5): tripulacion[0,5](0 .. 1), (0, 6): tripulacion[0,6](0 .. 1), (0, 7): tripulacion[0,7](0 .. 1), (0, 8): tripulacion[0,8](0 .. 1), (0, 9): tripulacion[0,9](0 .. 1), (0, 10): tripulacion[0,10](0 .. 1), (0, 11): tripulacion[0,11](0 .. 1), (0, 12): tripulacion[0,12](0 .. 1), (0, 13): tripulacion[0,13](0 .. 1), (0, 14): tripulacion[0,14](0 .. 1), (0, 15): tripulacion[0,15](0 .. 1), (0, 16): tripulacion[0,16](0 .. 1), (0, 17): tripulacion[0,17](0 .. 1), (0, 18): tripulacion[0,18](0 .. 1), (0, 19): tripulacion[0,19](0 .. 1), (1, 0): tripulacion[1,0](0 .. 1), (1, 1): tripulacion[1,1](0 .. 1), (1, 2): tripulacion[1,2](0 .. 1), (1, 3): tripulacion[1,3](0 .. 1), (1, 4): tripulacion[1,4](0 .. 1), (1, 5): tripulacion[1,5](0 .. 1), (1, 6): tripulacion[1,6](0 .. 1), (1, 7): tripulacion[1,7](0 .. 1), (1, 8): tripulacion[1,8](0 .. 1), (1, 9): tripulacion[1,9](0 .. 1), (1, 10): tripulacion[1,10](0 .. 1), (1, 11): tripulacion[1,11](0 .. 1), (1, 12): tripulacion[1,12](0 .. 1), (1, 13): tripulacion[1,13](0 .. 1), (1, 14): tripulacion[1,14](0 .. 1), (1, 15): tripulacion[1,15](0 .. 1), (1, 16): tripulacion[1,16](0 .. 1), (1, 17): tripulacion[1,17](0 .. 1), (1, 18): tripulacion[1,18](0 .. 1), (1, 19): tripulacion[1,19](0 .. 1), (2, 0): tripulacion[2,0](0 .. 1), (2, 1): tripulacion[2,1](0 .. 1), (2, 2): tripulacion[2,2](0 .. 1), (2, 3): tripulacion[2,3](0 .. 1), (2, 4): tripulacion[2,4](0 .. 1), (2, 5): tripulacion[2,5](0 .. 1), (2, 6): tripulacion[2,6](0 .. 1), (2, 7): tripulacion[2,7](0 .. 1), (2, 8): tripulacion[2,8](0 .. 1), (2, 9): tripulacion[2,9](0 .. 1), (2, 10): tripulacion[2,10](0 .. 1), (2, 11): tripulacion[2,11](0 .. 1), (2, 12): tripulacion[2,12](0 .. 1), (2, 13): tripulacion[2,13](0 .. 1), (2, 14): tripulacion[2,14](0 .. 1), (2, 15): tripulacion[2,15](0 .. 1), (2, 16): tripulacion[2,16](0 .. 1), (2, 17): tripulacion[2,17](0 .. 1), (2, 18): tripulacion[2,18](0 .. 1), (2, 19): tripulacion[2,19](0 .. 1), (3, 0): tripulacion[3,0](0 .. 1), (3, 1): tripulacion[3,1](0 .. 1), (3, 2): tripulacion[3,2](0 .. 1), (3, 3): tripulacion[3,3](0 .. 1), (3, 4): tripulacion[3,4](0 .. 1), (3, 5): tripulacion[3,5](0 .. 1), (3, 6): tripulacion[3,6](0 .. 1), (3, 7): tripulacion[3,7](0 .. 1), (3, 8): tripulacion[3,8](0 .. 1), (3, 9): tripulacion[3,9](0 .. 1), (3, 10): tripulacion[3,10](0 .. 1), (3, 11): tripulacion[3,11](0 .. 1), (3, 12): tripulacion[3,12](0 .. 1), (3, 13): tripulacion[3,13](0 .. 1), (3, 14): tripulacion[3,14](0 .. 1), (3, 15): tripulacion[3,15](0 .. 1), (3, 16): tripulacion[3,16](0 .. 1), (3, 17): tripulacion[3,17](0 .. 1), (3, 18): tripulacion[3,18](0 .. 1), (3, 19): tripulacion[3,19](0 .. 1), (4, 0): tripulacion[4,0](0 .. 1), (4, 1): tripulacion[4,1](0 .. 1), (4, 2): tripulacion[4,2](0 .. 1), (4, 3): tripulacion[4,3](0 .. 1), (4, 4): tripulacion[4,4](0 .. 1), (4, 5): tripulacion[4,5](0 .. 1), (4, 6): tripulacion[4,6](0 .. 1), (4, 7): tripulacion[4,7](0 .. 1), (4, 8): tripulacion[4,8](0 .. 1), (4, 9): tripulacion[4,9](0 .. 1), (4, 10): tripulacion[4,10](0 .. 1), (4, 11): tripulacion[4,11](0 .. 1), (4, 12): tripulacion[4,12](0 .. 1), (4, 13): tripulacion[4,13](0 .. 1), (4, 14): tripulacion[4,14](0 .. 1), (4, 15): tripulacion[4,15](0 .. 1), (4, 16): tripulacion[4,16](0 .. 1), (4, 17): tripulacion[4,17](0 .. 1), (4, 18): tripulacion[4,18](0 .. 1), (4, 19): tripulacion[4,19](0 .. 1), (5, 0): tripulacion[5,0](0 .. 1), (5, 1): tripulacion[5,1](0 .. 1), (5, 2): tripulacion[5,2](0 .. 1), (5, 3): tripulacion[5,3](0 .. 1), (5, 4): tripulacion[5,4](0 .. 1), (5, 5): tripulacion[5,5](0 .. 1), (5, 6): tripulacion[5,6](0 .. 1), (5, 7): tripulacion[5,7](0 .. 1), (5, 8): tripulacion[5,8](0 .. 1), (5, 9): tripulacion[5,9](0 .. 1), (5, 10): tripulacion[5,10](0 .. 1), (5, 11): tripulacion[5,11](0 .. 1), (5, 12): tripulacion[5,12](0 .. 1), (5, 13): tripulacion[5,13](0 .. 1), (5, 14): tripulacion[5,14](0 .. 1), (5, 15): tripulacion[5,15](0 .. 1), (5, 16): tripulacion[5,16](0 .. 1), (5, 17): tripulacion[5,17](0 .. 1), (5, 18): tripulacion[5,18](0 .. 1), (5, 19): tripulacion[5,19](0 .. 1), (6, 0): tripulacion[6,0](0 .. 1), (6, 1): tripulacion[6,1](0 .. 1), (6, 2): tripulacion[6,2](0 .. 1), (6, 3): tripulacion[6,3](0 .. 1), (6, 4): tripulacion[6,4](0 .. 1), (6, 5): tripulacion[6,5](0 .. 1), (6, 6): tripulacion[6,6](0 .. 1), (6, 7): tripulacion[6,7](0 .. 1), (6, 8): tripulacion[6,8](0 .. 1), (6, 9): tripulacion[6,9](0 .. 1), (6, 10): tripulacion[6,10](0 .. 1), (6, 11): tripulacion[6,11](0 .. 1), (6, 12): tripulacion[6,12](0 .. 1), (6, 13): tripulacion[6,13](0 .. 1), (6, 14): tripulacion[6,14](0 .. 1), (6, 15): tripulacion[6,15](0 .. 1), (6, 16): tripulacion[6,16](0 .. 1), (6, 17): tripulacion[6,17](0 .. 1), (6, 18): tripulacion[6,18](0 .. 1), (6, 19): tripulacion[6,19](0 .. 1), (7, 0): tripulacion[7,0](0 .. 1), (7, 1): tripulacion[7,1](0 .. 1), (7, 2): tripulacion[7,2](0 .. 1), (7, 3): tripulacion[7,3](0 .. 1), (7, 4): tripulacion[7,4](0 .. 1), (7, 5): tripulacion[7,5](0 .. 1), (7, 6): tripulacion[7,6](0 .. 1), (7, 7): tripulacion[7,7](0 .. 1), (7, 8): tripulacion[7,8](0 .. 1), (7, 9): tripulacion[7,9](0 .. 1), (7, 10): tripulacion[7,10](0 .. 1), (7, 11): tripulacion[7,11](0 .. 1), (7, 12): tripulacion[7,12](0 .. 1), (7, 13): tripulacion[7,13](0 .. 1), (7, 14): tripulacion[7,14](0 .. 1), (7, 15): tripulacion[7,15](0 .. 1), (7, 16): tripulacion[7,16](0 .. 1), (7, 17): tripulacion[7,17](0 .. 1), (7, 18): tripulacion[7,18](0 .. 1), (7, 19): tripulacion[7,19](0 .. 1), (8, 0): tripulacion[8,0](0 .. 1), (8, 1): tripulacion[8,1](0 .. 1), (8, 2): tripulacion[8,2](0 .. 1), (8, 3): tripulacion[8,3](0 .. 1), (8, 4): tripulacion[8,4](0 .. 1), (8, 5): tripulacion[8,5](0 .. 1), (8, 6): tripulacion[8,6](0 .. 1), (8, 7): tripulacion[8,7](0 .. 1), (8, 8): tripulacion[8,8](0 .. 1), (8, 9): tripulacion[8,9](0 .. 1), (8, 10): tripulacion[8,10](0 .. 1), (8, 11): tripulacion[8,11](0 .. 1), (8, 12): tripulacion[8,12](0 .. 1), (8, 13): tripulacion[8,13](0 .. 1), (8, 14): tripulacion[8,14](0 .. 1), (8, 15): tripulacion[8,15](0 .. 1), (8, 16): tripulacion[8,16](0 .. 1), (8, 17): tripulacion[8,17](0 .. 1), (8, 18): tripulacion[8,18](0 .. 1), (8, 19): tripulacion[8,19](0 .. 1), (9, 0): tripulacion[9,0](0 .. 1), (9, 1): tripulacion[9,1](0 .. 1), (9, 2): tripulacion[9,2](0 .. 1), (9, 3): tripulacion[9,3](0 .. 1), (9, 4): tripulacion[9,4](0 .. 1), (9, 5): tripulacion[9,5](0 .. 1), (9, 6): tripulacion[9,6](0 .. 1), (9, 7): tripulacion[9,7](0 .. 1), (9, 8): tripulacion[9,8](0 .. 1), (9, 9): tripulacion[9,9](0 .. 1), (9, 10): tripulacion[9,10](0 .. 1), (9, 11): tripulacion[9,11](0 .. 1), (9, 12): tripulacion[9,12](0 .. 1), (9, 13): tripulacion[9,13](0 .. 1), (9, 14): tripulacion[9,14](0 .. 1), (9, 15): tripulacion[9,15](0 .. 1), (9, 16): tripulacion[9,16](0 .. 1), (9, 17): tripulacion[9,17](0 .. 1), (9, 18): tripulacion[9,18](0 .. 1), (9, 19): tripulacion[9,19](0 .. 1)}\n"
          ],
          "name": "stdout"
        }
      ]
    },
    {
      "cell_type": "markdown",
      "metadata": {
        "id": "z5uG8xIjlhRX",
        "colab_type": "text"
      },
      "source": [
        "## Creación de restricciones"
      ]
    },
    {
      "cell_type": "markdown",
      "metadata": {
        "id": "bAK95VPpHtom",
        "colab_type": "text"
      },
      "source": [
        "# Conclusiones"
      ]
    },
    {
      "cell_type": "markdown",
      "metadata": {
        "id": "zm0Gg9E9_Sal",
        "colab_type": "text"
      },
      "source": [
        ""
      ]
    },
    {
      "cell_type": "markdown",
      "metadata": {
        "id": "oGyXnrC-HxY6",
        "colab_type": "text"
      },
      "source": [
        "# Integrantes"
      ]
    }
  ]
}